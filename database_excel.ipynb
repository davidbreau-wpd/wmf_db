{
 "cells": [
  {
   "cell_type": "code",
   "execution_count": 1,
   "metadata": {},
   "outputs": [],
   "source": [
    "import pandas as pd; pd.set_option('display.max_columns', None) #Afficher toutes les colones\n",
    "from pathlib import Path"
   ]
  },
  {
   "cell_type": "code",
   "execution_count": 2,
   "metadata": {},
   "outputs": [],
   "source": [
    "df = pd.read_excel(Path(\"data\") / \"BDD.xlsx\", sheet_name=\"DataBase\")\n"
   ]
  },
  {
   "cell_type": "code",
   "execution_count": 3,
   "metadata": {},
   "outputs": [
    {
     "name": "stdout",
     "output_type": "stream",
     "text": [
      "<class 'pandas.core.frame.DataFrame'>\n",
      "RangeIndex: 145 entries, 0 to 144\n",
      "Columns: 117 entries, Unnamed: 0 to 0.8352402745995423\n",
      "dtypes: float64(3), object(114)\n",
      "memory usage: 132.7+ KB\n"
     ]
    }
   ],
   "source": [
    "df.info()"
   ]
  },
  {
   "cell_type": "markdown",
   "metadata": {},
   "source": [
    "Nettoyage"
   ]
  },
  {
   "cell_type": "code",
   "execution_count": null,
   "metadata": {},
   "outputs": [],
   "source": [
    "df.columns = df.iloc[0]  # La deuxième ligne devient l'en-tête\n",
    "df = df[1:].reset_index(drop=True)  # Supprime la première ligne et réindexe le DataFrame\n",
    "df = df.set_index('Map reference') # Utilise la colonne numérique incrémentielle déjà existante comme ID\n",
    "df = df.dropna(how='all', subset=df.columns.difference([\"total MW\"])) #Supprime les lignes intégralement nulles en ignorant la colonne \"total MW\" qui comporte des erreurs"
   ]
  },
  {
   "cell_type": "code",
   "execution_count": 32,
   "metadata": {},
   "outputs": [],
   "source": [
    "df.to_csv(Path('data') / 'Database.csv')"
   ]
  },
  {
   "cell_type": "markdown",
   "metadata": {},
   "source": [
    "Focus sur les parcs en opération"
   ]
  },
  {
   "cell_type": "code",
   "execution_count": 33,
   "metadata": {},
   "outputs": [],
   "source": [
    "df_inoperation = df[df[\"WF status\"] == \"In Operation by wm\"]\n",
    "df_inoperation.to_csv(Path('data') / 'Database_inoperation.csv')"
   ]
  },
  {
   "cell_type": "markdown",
   "metadata": {},
   "source": [
    "Répartition"
   ]
  },
  {
   "cell_type": "code",
   "execution_count": null,
   "metadata": {},
   "outputs": [
    {
     "name": "stdout",
     "output_type": "stream",
     "text": [
      "['Enercon', 'Vestas', 'DWT', 'RES', 'SRGE', 'Nordex']\n"
     ]
    }
   ],
   "source": [
    "suppliers = df_inoperation['WEC service company'].unique().tolist()           ; print(suppliers) #Extrait la liste des suppliers "
   ]
  },
  {
   "cell_type": "code",
   "execution_count": 29,
   "metadata": {},
   "outputs": [],
   "source": [
    "for supplier in suppliers:\n",
    "    df_temp = df[df[\"WEC service company\"] == supplier][['WF Abbreviation', 'WF common name', 'Windfarm (Infogreffe)', \"Region\", \"Département\", \"Commune\"]].sort_values(by=\"WF Abbreviation\")\n",
    "    df_temp.to_csv(Path('data') / 'WF' / f'{supplier.capitalize()}_windfarms.csv')"
   ]
  },
  {
   "cell_type": "code",
   "execution_count": null,
   "metadata": {},
   "outputs": [],
   "source": []
  }
 ],
 "metadata": {
  "kernelspec": {
   "display_name": "venv",
   "language": "python",
   "name": "python3"
  },
  "language_info": {
   "codemirror_mode": {
    "name": "ipython",
    "version": 3
   },
   "file_extension": ".py",
   "mimetype": "text/x-python",
   "name": "python",
   "nbconvert_exporter": "python",
   "pygments_lexer": "ipython3",
   "version": "3.12.5"
  }
 },
 "nbformat": 4,
 "nbformat_minor": 2
}
